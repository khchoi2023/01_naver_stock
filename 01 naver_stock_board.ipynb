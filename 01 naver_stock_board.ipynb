{
 "cells": [
  {
   "cell_type": "code",
   "execution_count": null,
   "id": "b8baf57c",
   "metadata": {},
   "outputs": [],
   "source": [
    "# 필요한 패키지\n",
    "# 1) 통신 : http\n",
    "import requests # urllib, requests, etc\n",
    "\n",
    "# 2) html 에 필요한 정보를 쉽게 추출할 수 있는 : ML-->Tag\n",
    "from bs4 import BeautifulSoup\n",
    "\n",
    "# 3) 데이터 처리 \n",
    "import pandas as pd\n",
    "\n",
    "# ------ 필요한 데이터 처리 : 정규식, 시간지연\n",
    "import re\n",
    "import time\n",
    "\n",
    "# 경고 무시\n",
    "import warnings\n",
    "warnings.filterwarnings(\"ignore\", category=FutureWarning)\n",
    "\n",
    "\n",
    "\n",
    "def NS_user_crawler(codes, page):\n",
    "    # User-Agent 설정\n",
    "    headers = {'User-Agent': 'Mozilla/5.0 (Windows NT 10.0; Win64; x64) AppleWebKit/537.36 (KHTML, like Gecko) Chrome/101.0.4951.67 Safari/537.36'}\n",
    "    result_df = pd.DataFrame([])    \n",
    "    \n",
    "    n_ = 0\n",
    "    for page in range(1, page):\n",
    "        n_ += 1\n",
    "        if (n_ % 10 == 0):\n",
    "            print('==================== Page ' + str(page) + ' is done ====================')\n",
    "        \n",
    "        url = \"https://finance.naver.com/item/board.naver?code=%s&page=%s\" % (codes, str(page))\n",
    "        \n",
    "        # html -> parsing\n",
    "        html = requests.get(url, headers = headers).content\n",
    "\n",
    "        # 한글깨짐방지\n",
    "        soup = BeautifulSoup(html.decode('euc-kr', 'replace'),  'html.parser')\n",
    "        table = soup.find('table', {'class': 'type2'})\n",
    "        tb = table.select('tbody > tr')\n",
    "\n",
    "        for i in range(2, len(tb)):\n",
    "            if len(tb[i].select('td > span')) > 0:\n",
    "                date = tb[i].select('td > span')[0].text\n",
    "                title = tb[i].select('td.title > a')[0]['title']\n",
    "                views = tb[i].select('td > span')[1].text\n",
    "                pos = tb[i].select('td > strong')[0].text\n",
    "                neg = tb[i].select('td > strong')[1].text\n",
    "                table = pd.DataFrame({'날짜': [date], '제목': [title], '조회': [views], '공감': [pos], '비공감': [neg]})\n",
    "                \n",
    "                result_df = result_df.append(table)\n",
    "                result_df = pd.concat([result_df, table], ignore_index=True)\n",
    "        \n",
    "        time.sleep(1)\n",
    "\n",
    "    return result_df"
   ]
  },
  {
   "cell_type": "code",
   "execution_count": null,
   "id": "dd677f37",
   "metadata": {},
   "outputs": [],
   "source": [
    "# 대성홀딩스\n",
    "data = NS_user_crawler(\"016710\",307)\n",
    "data.head()\n",
    "data.to_csv('016710.csv',index = False, encoding = 'cp949')       # encoding = 'cp949'는 엑셀로 열었을 때, 한글 깨짐 방지\n",
    "print(\"Done\")"
   ]
  },
  {
   "cell_type": "code",
   "execution_count": null,
   "id": "0d14ae22",
   "metadata": {},
   "outputs": [],
   "source": [
    "# 선광\n",
    "data = NS_user_crawler(\"003100\",258)\n",
    "data.head()\n",
    "data.to_csv('003100.csv',index = False, encoding = 'cp949')\n",
    "print(\"Done\")"
   ]
  },
  {
   "cell_type": "code",
   "execution_count": null,
   "id": "a97e565e",
   "metadata": {},
   "outputs": [],
   "source": [
    "# 삼천리\n",
    "data = NS_user_crawler(\"004690\",893)\n",
    "data.head()\n",
    "data.to_csv('004690.csv',index = False, encoding = 'cp949')\n",
    "print(\"Done\")"
   ]
  },
  {
   "cell_type": "code",
   "execution_count": null,
   "id": "defd6b16",
   "metadata": {},
   "outputs": [],
   "source": [
    "# 서울가스\n",
    "data = NS_user_crawler(\"017390\",327)\n",
    "data.head()\n",
    "data.to_csv('017390.csv',index = False, encoding = 'cp949')\n",
    "print(\"Done\")"
   ]
  },
  {
   "cell_type": "code",
   "execution_count": null,
   "id": "4a729118",
   "metadata": {},
   "outputs": [],
   "source": [
    "# 다우데이타\n",
    "data = NS_user_crawler(\"032190\",863)\n",
    "data.head()\n",
    "data.to_csv('032190.csv',index = False, encoding = 'cp949')\n",
    "print(\"Done\")"
   ]
  },
  {
   "cell_type": "code",
   "execution_count": null,
   "id": "e826d1a1",
   "metadata": {},
   "outputs": [],
   "source": [
    "# 세방\n",
    "data = NS_user_crawler(\"004360\",423)\n",
    "data.head(10)\n",
    "data.to_csv('004360.csv',index = False, encoding = 'cp949')\n",
    "print(\"Done\")"
   ]
  },
  {
   "cell_type": "code",
   "execution_count": null,
   "id": "5206a31f",
   "metadata": {},
   "outputs": [],
   "source": [
    "# 하림지주\n",
    "data = NS_user_crawler(\"003380\",878)\n",
    "data.head()\n",
    "data.to_csv('003380.csv',index = False, encoding = 'cp949')\n",
    "print(\"Done\")"
   ]
  },
  {
   "cell_type": "code",
   "execution_count": null,
   "id": "78311276",
   "metadata": {},
   "outputs": [],
   "source": [
    "# 다올투자증권\n",
    "data = NS_user_crawler(\"030210\",541)\n",
    "data.head()\n",
    "data.to_csv('030210.csv',index = False, encoding = 'cp949')\n",
    "print(\"Done\")"
   ]
  }
 ],
 "metadata": {
  "kernelspec": {
   "display_name": "Python 3 (ipykernel)",
   "language": "python",
   "name": "python3"
  },
  "language_info": {
   "codemirror_mode": {
    "name": "ipython",
    "version": 3
   },
   "file_extension": ".py",
   "mimetype": "text/x-python",
   "name": "python",
   "nbconvert_exporter": "python",
   "pygments_lexer": "ipython3",
   "version": "3.11.4"
  }
 },
 "nbformat": 4,
 "nbformat_minor": 5
}
